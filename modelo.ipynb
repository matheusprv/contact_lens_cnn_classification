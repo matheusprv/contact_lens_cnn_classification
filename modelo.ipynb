{
 "cells": [
  {
   "cell_type": "code",
   "execution_count": 1,
   "metadata": {},
   "outputs": [],
   "source": [
    "import csv\n",
    "import numpy as np\n",
    "import time\n",
    "\n",
    "import torch\n",
    "from torch import nn\n",
    "from torch import optim\n",
    "import torchvision\n",
    "from PIL import Image"
   ]
  },
  {
   "cell_type": "code",
   "execution_count": 2,
   "metadata": {},
   "outputs": [],
   "source": [
    "def read_csv(train_test):\n",
    "  lines = []\n",
    "  #with open(f\"gdrive/Shareddrives/IC - Datasets/dataset/lens/CogentAnnotation{train_test}.csv\", \"r\") as file:\n",
    "  with open(f\"lens/CogentAnnotation{train_test}.csv\", \"r\") as file:\n",
    "      \n",
    "    csvreader = csv.reader(file)\n",
    "\n",
    "    for row in csvreader:\n",
    "        lines.append(np.asarray(row))\n",
    "\n",
    "  lines.pop(0) #Removing the header of the file\n",
    "  lines = np.array(lines).T #Transposing to recover the data easier\n",
    "\n",
    "  return lines\n",
    "\n",
    "def label_classifier(labels):\n",
    "    #Changing the string values to numerical using the item value to identify in the dictionary the corresponding item\n",
    "    type_labels = { \"Colored\": 0, \"Normal\": 1, \"Transparent\": 2 }\n",
    "\n",
    "    num_labels = len(labels)\n",
    "    for i in range (0, num_labels):\n",
    "        labels[i] = type_labels[labels[i]]\n",
    "\n",
    "    return labels.astype(np.int32)\n",
    "\n",
    "def read_images(train_test):\n",
    "\n",
    "    #Reading csv to get image path transposed to recover easier the data\n",
    "    csv_info = read_csv(train_test)\n",
    "\n",
    "    images_path = csv_info[0]\n",
    "    labels = label_classifier(csv_info[1])\n",
    "    \n",
    "    images = []\n",
    "\n",
    "    for image in images_path:\n",
    "        img = Image.open(\"lens/\" + image + \".bmp\")\n",
    "        img = img.resize((300, 300))\n",
    "        images.append(torchvision.transforms.functional.to_tensor(img))\n",
    "\n",
    "    labels = np.array(labels)\n",
    "\n",
    "    #Shuffle all the data\n",
    "    ts = int(time.time())\n",
    "    np.random.seed(ts)\n",
    "    np.random.shuffle(images)\n",
    "    np.random.seed(ts)\n",
    "    np.random.shuffle(labels)\n",
    "\n",
    "    return images, labels\n",
    "    "
   ]
  },
  {
   "cell_type": "code",
   "execution_count": 3,
   "metadata": {},
   "outputs": [
    {
     "name": "stdout",
     "output_type": "stream",
     "text": [
      "cuda\n"
     ]
    }
   ],
   "source": [
    "device = torch.device('cuda' if torch.cuda.is_available() else 'cpu')\n",
    "print(device)\n",
    "\n",
    "torch.cuda.empty_cache()"
   ]
  },
  {
   "cell_type": "code",
   "execution_count": 4,
   "metadata": {},
   "outputs": [
    {
     "name": "stdout",
     "output_type": "stream",
     "text": [
      "torch.Size([1, 300, 300])\n"
     ]
    }
   ],
   "source": [
    "x_train_read, y_train_read = read_images(\"Train\")\n",
    "x_test_read, y_test_read = read_images(\"Test\")\n",
    "\n",
    "print(x_train_read[0].size())"
   ]
  },
  {
   "cell_type": "code",
   "execution_count": 5,
   "metadata": {},
   "outputs": [],
   "source": [
    "x_train = (torch.stack(x_train_read)).type(torch.FloatTensor)\n",
    "y_train = torch.from_numpy(y_train_read).type(torch.LongTensor)\n",
    "\n",
    "x_test = torch.stack(x_test_read).type(torch.FloatTensor)\n",
    "y_test = torch.from_numpy(y_test_read).type(torch.LongTensor)\n",
    "\n",
    "x_train = x_train.repeat(1, 3, 1, 1)\n",
    "x_test = x_test.repeat(1, 3, 1, 1)\n"
   ]
  },
  {
   "cell_type": "code",
   "execution_count": 6,
   "metadata": {},
   "outputs": [
    {
     "name": "stdout",
     "output_type": "stream",
     "text": [
      "torch.Size([1755, 3, 300, 300])\n",
      "torch.Size([1753, 3, 300, 300])\n"
     ]
    }
   ],
   "source": [
    "print(x_test.shape)\n",
    "print(x_train.shape)"
   ]
  },
  {
   "cell_type": "code",
   "execution_count": 7,
   "metadata": {},
   "outputs": [],
   "source": [
    "from torch.utils.data import DataLoader, TensorDataset\n",
    "\n",
    "train = TensorDataset(x_train, y_train)\n",
    "test = TensorDataset(x_test, y_test)\n",
    "\n",
    "train_loaded = DataLoader(train, batch_size=7, shuffle=True)\n",
    "test_loaded = DataLoader(test, batch_size=7, shuffle=True)\n"
   ]
  },
  {
   "cell_type": "code",
   "execution_count": 8,
   "metadata": {},
   "outputs": [],
   "source": [
    "torch.cuda.empty_cache()\n",
    "class lensModel(nn.Module):\n",
    "    def __init__(self):\n",
    "        super(lensModel, self).__init__()\n",
    "\n",
    "        self.weights = torchvision.models.EfficientNet_B3_Weights.DEFAULT\n",
    "        self.efficientNetB3 = torchvision.models.efficientnet_b3(weights= self.weights)\n",
    "        self.efficientNetB3._avg_pooling = nn.Identity()\n",
    "        \n",
    "        # Stage 10: BatchNormalization and Dropout with 10x10 resolution, 1536 channels, and 1 layer\n",
    "        self.stage10_layers = nn.Sequential(\n",
    "            nn.BatchNorm1d(1000),\n",
    "            nn.Linear(1000, 1536),\n",
    "            nn.Dropout(p=0.145),\n",
    "\n",
    "            nn.Linear(1536, 512),\n",
    "            nn.ReLU(),\n",
    "            nn.Dropout(p=0.1),\n",
    "\n",
    "            nn.Linear(512, 3),\n",
    "            nn.Dropout(p=0.1),\n",
    "            nn.Softmax(dim = 1)\n",
    "        )\n",
    "\n",
    "    def forward(self, x):\n",
    "        x = self.efficientNetB3(x)\n",
    "        x = self.efficientNetB3._avg_pooling(x)\n",
    "        x = x.view(x.size(0), -1)\n",
    "\n",
    "        x = self.stage10_layers(x)\n",
    "\n",
    "        return x\n",
    "    \n",
    "#Putting the MnistModel into a variable\n",
    "model = lensModel()\n",
    "model.to(device)\n",
    "\n",
    "optimizer = optim.SGD(model.parameters(), lr=0.0018, momentum=0.93)\n",
    "criterion = nn.CrossEntropyLoss()"
   ]
  },
  {
   "cell_type": "code",
   "execution_count": 9,
   "metadata": {},
   "outputs": [
    {
     "name": "stderr",
     "output_type": "stream",
     "text": [
      "Epoch [1/8] Loss: 1.1313 Acc: 0.3333: 100%|██████████| 251/251 [01:09<00:00,  3.60it/s]\n"
     ]
    },
    {
     "name": "stdout",
     "output_type": "stream",
     "text": [
      "Epoch [1/8], Train Loss: 0.9734, Train Acc: 0.5579, Test Loss: 0.8474, Test Acc: 0.6974\n",
      "\n"
     ]
    },
    {
     "name": "stderr",
     "output_type": "stream",
     "text": [
      "Epoch [2/8] Loss: 0.7623 Acc: 1.0000: 100%|██████████| 251/251 [01:06<00:00,  3.79it/s]\n"
     ]
    },
    {
     "name": "stdout",
     "output_type": "stream",
     "text": [
      "Epoch [2/8], Train Loss: 0.8164, Train Acc: 0.7370, Test Loss: 0.7362, Test Acc: 0.8154\n",
      "\n"
     ]
    },
    {
     "name": "stderr",
     "output_type": "stream",
     "text": [
      "Epoch [3/8] Loss: 0.6771 Acc: 1.0000: 100%|██████████| 251/251 [01:05<00:00,  3.86it/s]\n"
     ]
    },
    {
     "name": "stdout",
     "output_type": "stream",
     "text": [
      "Epoch [3/8], Train Loss: 0.7368, Train Acc: 0.8163, Test Loss: 0.6991, Test Acc: 0.8473\n",
      "\n"
     ]
    },
    {
     "name": "stderr",
     "output_type": "stream",
     "text": [
      "Epoch [4/8] Loss: 0.5635 Acc: 1.0000: 100%|██████████| 251/251 [01:05<00:00,  3.85it/s]\n"
     ]
    },
    {
     "name": "stdout",
     "output_type": "stream",
     "text": [
      "Epoch [4/8], Train Loss: 0.6943, Train Acc: 0.8562, Test Loss: 0.6829, Test Acc: 0.8650\n",
      "\n"
     ]
    },
    {
     "name": "stderr",
     "output_type": "stream",
     "text": [
      "Epoch [5/8] Loss: 0.7869 Acc: 0.6667: 100%|██████████| 251/251 [01:04<00:00,  3.87it/s]\n"
     ]
    },
    {
     "name": "stdout",
     "output_type": "stream",
     "text": [
      "Epoch [5/8], Train Loss: 0.6773, Train Acc: 0.8705, Test Loss: 0.6534, Test Acc: 0.8974\n",
      "\n"
     ]
    },
    {
     "name": "stderr",
     "output_type": "stream",
     "text": [
      "Epoch [6/8] Loss: 0.8783 Acc: 0.6667: 100%|██████████| 251/251 [01:04<00:00,  3.87it/s]\n"
     ]
    },
    {
     "name": "stdout",
     "output_type": "stream",
     "text": [
      "Epoch [6/8], Train Loss: 0.6639, Train Acc: 0.8899, Test Loss: 0.6638, Test Acc: 0.8809\n",
      "\n"
     ]
    },
    {
     "name": "stderr",
     "output_type": "stream",
     "text": [
      "Epoch [7/8] Loss: 0.5515 Acc: 1.0000: 100%|██████████| 251/251 [01:05<00:00,  3.82it/s]\n"
     ]
    },
    {
     "name": "stdout",
     "output_type": "stream",
     "text": [
      "Epoch [7/8], Train Loss: 0.6689, Train Acc: 0.8819, Test Loss: 0.6661, Test Acc: 0.8832\n",
      "\n"
     ]
    },
    {
     "name": "stderr",
     "output_type": "stream",
     "text": [
      "Epoch [8/8] Loss: 0.5578 Acc: 1.0000: 100%|██████████| 251/251 [01:05<00:00,  3.84it/s]\n"
     ]
    },
    {
     "name": "stdout",
     "output_type": "stream",
     "text": [
      "Epoch [8/8], Train Loss: 0.6451, Train Acc: 0.9070, Test Loss: 0.6469, Test Acc: 0.9026\n",
      "\n"
     ]
    }
   ],
   "source": [
    "from tqdm import tqdm\n",
    "\n",
    "\n",
    "num_epochs = 8\n",
    "\n",
    "train_loss_history = []\n",
    "test_loss_history = []\n",
    "train_acc_history = []\n",
    "test_acc_history = []\n",
    "\n",
    "for epoch in range(num_epochs):\n",
    "    # Training phase\n",
    "    model.train()\n",
    "    train_loss = 0.0\n",
    "    train_correct = 0\n",
    "    \n",
    "    progress_bar = tqdm(enumerate(train_loaded), total=len(train_loaded))\n",
    "    \n",
    "    for batch_idx, (inputs, labels) in progress_bar:\n",
    "        inputs = inputs.to(device)\n",
    "        labels = labels.to(device)\n",
    "        \n",
    "        optimizer.zero_grad()\n",
    "        \n",
    "        outputs = model(inputs)\n",
    "        _, predicted = torch.max(outputs.data, 1)\n",
    "        \n",
    "        loss = criterion(outputs, labels)\n",
    "        loss.backward()\n",
    "        optimizer.step()\n",
    "        \n",
    "        train_loss += loss.item() * inputs.size(0)\n",
    "        train_correct += (predicted == labels).sum().item()\n",
    "        \n",
    "        # Update progress bar description\n",
    "        progress_bar.set_description(f'Epoch [{epoch+1}/{num_epochs}] '\n",
    "                                        f'Loss: {loss.item():.4f} '\n",
    "                                        f'Acc: {(predicted == labels).sum().item() / len(inputs):.4f}')\n",
    "    \n",
    "    train_loss = train_loss / len(train_loaded.dataset)\n",
    "    train_acc = train_correct / len(train_loaded.dataset)\n",
    "    train_loss_history.append(train_loss)\n",
    "    train_acc_history.append(train_acc)\n",
    "    \n",
    "    # Validation phase\n",
    "    model.eval()\n",
    "    test_loss = 0.0\n",
    "    test_correct = 0\n",
    "    \n",
    "    with torch.no_grad():\n",
    "        for inputs, labels in test_loaded:\n",
    "            inputs = inputs.to(device)\n",
    "            labels = labels.to(device)\n",
    "            \n",
    "            outputs = model(inputs)\n",
    "            _, predicted = torch.max(outputs.data, 1)\n",
    "            \n",
    "            loss = criterion(outputs, labels)\n",
    "            \n",
    "            test_loss += loss.item() * inputs.size(0)\n",
    "            test_correct += (predicted == labels).sum().item()\n",
    "    \n",
    "    test_loss = test_loss / len(test_loaded.dataset)\n",
    "    test_acc = test_correct / len(test_loaded.dataset)\n",
    "    test_loss_history.append(test_loss)\n",
    "    test_acc_history.append(test_acc)\n",
    "    \n",
    "    print(f'Epoch [{epoch+1}/{num_epochs}], '\n",
    "            f'Train Loss: {train_loss:.4f}, Train Acc: {train_acc:.4f}, '\n",
    "            f'Test Loss: {test_loss:.4f}, Test Acc: {test_acc:.4f}\\n')"
   ]
  },
  {
   "cell_type": "code",
   "execution_count": 10,
   "metadata": {},
   "outputs": [
    {
     "name": "stderr",
     "output_type": "stream",
     "text": [
      "Getting accuracy:   0%|          | 0/251 [00:00<?, ?it/s]"
     ]
    },
    {
     "name": "stderr",
     "output_type": "stream",
     "text": [
      "Getting accuracy: 100%|██████████| 251/251 [00:17<00:00, 14.61it/s]"
     ]
    },
    {
     "name": "stdout",
     "output_type": "stream",
     "text": [
      ".\n",
      "Test set: Average loss: 0.6469054103916527, Accuracy: 1584/1755, 90.25641025641026)\n",
      "\n"
     ]
    },
    {
     "name": "stderr",
     "output_type": "stream",
     "text": [
      "\n"
     ]
    }
   ],
   "source": [
    "#Getting the Final Accuracy of the model\n",
    "import torch.nn.functional as F\n",
    "\n",
    "model.eval()\n",
    "t_loss = 0\n",
    "correct = 0\n",
    "with torch.no_grad():\n",
    "    for imgs, labels in tqdm(test_loaded, desc=\"Getting accuracy\"):\n",
    "        labels = labels.type(torch.LongTensor)\n",
    "        imgs, labels = imgs.to(device), labels.to(device)\n",
    "        output = model(imgs)\n",
    "        t_loss += F.cross_entropy(output, labels, reduction=\"sum\").item()\n",
    "\n",
    "        pred = output.max(1, keepdim=True)[1]\n",
    "        correct += pred.eq(labels.view_as(pred)).sum().item()\n",
    "\n",
    "t_loss /= len(test_loaded.dataset)\n",
    "print(\".\")\n",
    "print( f\"Test set: Average loss: {t_loss}, Accuracy: {correct}/{len(test_loaded.dataset)}, {100.0 * correct / len(test_loaded.dataset)})\\n\")"
   ]
  },
  {
   "cell_type": "code",
   "execution_count": 11,
   "metadata": {},
   "outputs": [
    {
     "name": "stdout",
     "output_type": "stream",
     "text": [
      "Model Saved\n"
     ]
    }
   ],
   "source": [
    "#Saving the model and the model parameters\n",
    "file_name = input(\"Give a name to salve the model and the optimizer: \")\n",
    "torch.save(model.state_dict(),f\"Modelos/{file_name}-modelo.pth\")\n",
    "torch.save(optimizer.state_dict(), f\"Modelos/{file_name}-optimizer.pth\")\n",
    "print(\"Model Saved\")"
   ]
  }
 ],
 "metadata": {
  "kernelspec": {
   "display_name": "Python 3",
   "language": "python",
   "name": "python3"
  },
  "language_info": {
   "codemirror_mode": {
    "name": "ipython",
    "version": 3
   },
   "file_extension": ".py",
   "mimetype": "text/x-python",
   "name": "python",
   "nbconvert_exporter": "python",
   "pygments_lexer": "ipython3",
   "version": "3.11.3"
  },
  "orig_nbformat": 4
 },
 "nbformat": 4,
 "nbformat_minor": 2
}
